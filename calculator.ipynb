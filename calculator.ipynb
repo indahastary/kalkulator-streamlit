{
 "cells": [
  {
   "cell_type": "code",
   "execution_count": 1,
   "metadata": {},
   "outputs": [],
   "source": [
    "import pandas as pd\n",
    "import numpy as np"
   ]
  },
  {
   "cell_type": "code",
   "execution_count": 2,
   "metadata": {},
   "outputs": [
    {
     "name": "stdout",
     "output_type": "stream",
     "text": [
      "Selamat datang di kalkulator sederhana!\n",
      "Pilih operasi:\n",
      "1. Penjumlahan\n",
      "2. Pengurangan\n",
      "3. Perkalian\n",
      "4. Pembagian\n",
      "Hasil: 1.0 - 2.0 = -1.0\n",
      "Terima kasih telah menggunakan kalkulator ini!\n"
     ]
    }
   ],
   "source": [
    "def kalkulator():\n",
    "    print(\"Selamat datang di kalkulator sederhana!\")\n",
    "    print(\"Pilih operasi:\")\n",
    "    print(\"1. Penjumlahan\")\n",
    "    print(\"2. Pengurangan\")\n",
    "    print(\"3. Perkalian\")\n",
    "    print(\"4. Pembagian\")\n",
    "\n",
    "    pilihan = input(\"Masukkan pilihan (1/2/3/4): \")\n",
    "\n",
    "    if pilihan in ['1', '2', '3', '4']:\n",
    "        try:\n",
    "            angka1 = float(input(\"Masukkan angka pertama: \"))\n",
    "            angka2 = float(input(\"Masukkan angka kedua: \"))\n",
    "\n",
    "            if pilihan == '1':\n",
    "                print(f\"Hasil: {angka1} + {angka2} = {angka1 + angka2}\")\n",
    "            elif pilihan == '2':\n",
    "                print(f\"Hasil: {angka1} - {angka2} = {angka1 - angka2}\")\n",
    "            elif pilihan == '3':\n",
    "                print(f\"Hasil: {angka1} * {angka2} = {angka1 * angka2}\")\n",
    "            elif pilihan == '4':\n",
    "                if angka2 != 0:\n",
    "                    print(f\"Hasil: {angka1} / {angka2} = {angka1 / angka2}\")\n",
    "                else:\n",
    "                    print(\"Error: Pembagian dengan nol tidak diperbolehkan!\")\n",
    "        except ValueError:\n",
    "            print(\"Error: Masukkan angka yang valid!\")\n",
    "    else:\n",
    "        print(\"Pilihan tidak valid, silakan coba lagi.\")\n",
    "\n",
    "    ulang = input(\"Apakah Anda ingin menghitung lagi? (y/n): \")\n",
    "    if ulang.lower() == 'y':\n",
    "        kalkulator()\n",
    "    else:\n",
    "        print(\"Terima kasih telah menggunakan kalkulator ini!\")\n",
    "\n",
    "if __name__ == \"__main__\":\n",
    "    kalkulator()\n"
   ]
  },
  {
   "cell_type": "code",
   "execution_count": null,
   "metadata": {},
   "outputs": [],
   "source": []
  }
 ],
 "metadata": {
  "kernelspec": {
   "display_name": "Python 3",
   "language": "python",
   "name": "python3"
  },
  "language_info": {
   "codemirror_mode": {
    "name": "ipython",
    "version": 3
   },
   "file_extension": ".py",
   "mimetype": "text/x-python",
   "name": "python",
   "nbconvert_exporter": "python",
   "pygments_lexer": "ipython3",
   "version": "3.12.3"
  }
 },
 "nbformat": 4,
 "nbformat_minor": 2
}
